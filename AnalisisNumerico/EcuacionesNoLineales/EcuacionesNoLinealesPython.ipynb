{
 "cells": [
  {
   "cell_type": "markdown",
   "metadata": {
    "id": "7GOlF_S3MNSc"
   },
   "source": [
    "Elaborado por [Juan Galvis](https://scholar.google.com/citations?user=lbfc2joAAAAJ&hl=en)."
   ]
  },
  {
   "cell_type": "markdown",
   "metadata": {
    "id": "C4iHUmHWMPWO"
   },
   "source": [
    "# Prerrequisitos"
   ]
  },
  {
   "cell_type": "code",
   "execution_count": null,
   "metadata": {
    "id": "P7yG2iN3A1b1"
   },
   "outputs": [],
   "source": [
    "import numpy as np\n",
    "import matplotlib.pyplot as plt\n",
    "from ipywidgets import interactive"
   ]
  },
  {
   "cell_type": "markdown",
   "metadata": {
    "id": "mhCF8wtdAseM"
   },
   "source": [
    "# Bisección"
   ]
  },
  {
   "cell_type": "markdown",
   "metadata": {
    "id": "Z0mhIalWT3e6"
   },
   "source": [
    "Presentaremos una implementación del pseudocódigo de bisección en el texto guía.  En particular resolvemos la ecuación $\\exp(x)-\\sin(x)=0$"
   ]
  },
  {
   "cell_type": "code",
   "execution_count": null,
   "metadata": {
    "id": "4BroOaj1CVQz"
   },
   "outputs": [],
   "source": [
    "def mifun(x):\n",
    "  y=np.exp(x)-np.sin(x)\n",
    "  return y"
   ]
  },
  {
   "cell_type": "markdown",
   "metadata": {
    "id": "yRgAmePaT-It"
   },
   "source": [
    "Podemos hacer una gráfica para tener una idea de los parámetros del método de bisección. "
   ]
  },
  {
   "cell_type": "code",
   "execution_count": null,
   "metadata": {
    "colab": {
     "base_uri": "https://localhost:8080/",
     "height": 384,
     "referenced_widgets": [
      "ef791123dda94204a597371cbfbdbaa5",
      "378afa297176452586c9b66bb0046c0b",
      "ea6dd35a3af54d43895a34f7bb4c5e17",
      "bd12790a26aa4a018d8596d8aabf6881",
      "ec28daf1452642129b5933764521dba2",
      "9f51eaa460ea41d6b4a8ca2735c53916",
      "675b45ec2dac4bc7a84a65d1e5a3db87",
      "7085c486adbd44c2a61aa19729927077",
      "c14829a241a04b6aa66f266c0a318f46",
      "656df1d077e7425496158602d61a32b8"
     ]
    },
    "id": "mgDNf184ljjf",
    "outputId": "6631bc32-524e-46c6-a52c-64ab216c239f"
   },
   "outputs": [
    {
     "data": {
      "application/vnd.jupyter.widget-view+json": {
       "model_id": "ef791123dda94204a597371cbfbdbaa5",
       "version_major": 2,
       "version_minor": 0
      },
      "text/plain": [
       "interactive(children=(FloatSlider(value=0.0, description='a', max=10.0, min=-10.0), FloatSlider(value=5.0, des…"
      ]
     },
     "metadata": {},
     "output_type": "display_data"
    }
   ],
   "source": [
    "def animacion_intervalo(a,e):\n",
    "  \n",
    "  x = np.arange(a, a+e, e/1000)\n",
    "  y= mifun(x)\n",
    "  plt.figure(figsize=(10, 5))\n",
    "  plt.plot(x, y*0, 'b--',label='Funcion')\n",
    "  plt.plot(x, y, 'r-',linewidth=4, label='Funcion')\n",
    "  plt.grid(color='g', linestyle='--', linewidth=.5)\n",
    "  plt.show()\n",
    "  \n",
    "\n",
    "wd= interactive(animacion_intervalo, a=(-10, 10, .1), e=(0.1,10,.1))\n",
    "\n",
    "wd"
   ]
  },
  {
   "cell_type": "markdown",
   "metadata": {
    "id": "Rk-DRREnln-A"
   },
   "source": [
    "En este caso observamos que para calcular la raíz de la derecha podemos usar $[-4,-3]$. Tenemos el siguiente script para general la gráfica."
   ]
  },
  {
   "cell_type": "code",
   "execution_count": null,
   "metadata": {
    "colab": {
     "base_uri": "https://localhost:8080/",
     "height": 320
    },
    "id": "suRRc6s5FnJO",
    "outputId": "8efde316-6dca-43ff-d11a-af897af70047"
   },
   "outputs": [
    {
     "data": {
      "image/png": "[encoded data removed]",
      "text/plain": [
       "<Figure size 720x360 with 1 Axes>"
      ]
     },
     "metadata": {
      "needs_background": "light"
     },
     "output_type": "display_data"
    }
   ],
   "source": [
    "a,b=-4,-3\n",
    "x = np.arange(a, b, (b-a)/1000)\n",
    "y= mifun(x)\n",
    "plt.figure(figsize=(10, 5))\n",
    "plt.plot(x, y*0, 'b--',label='Funcion')\n",
    "plt.plot(x, y, 'r-',linewidth=4, label='Funcion')\n",
    "plt.grid(color='g', linestyle='--', linewidth=.5)\n",
    "plt.show()"
   ]
  },
  {
   "cell_type": "markdown",
   "metadata": {
    "id": "fml08yJgURmx"
   },
   "source": [
    "El siguiente script implementa el método de bisección para la función arriba usando como datos de entrada $[-4,-3]$, con una tolerancia a la longitud del intervalo y al valor absoluto del residuo de $10^{-8}$."
   ]
  },
  {
   "cell_type": "code",
   "execution_count": null,
   "metadata": {
    "colab": {
     "base_uri": "https://localhost:8080/"
    },
    "id": "bAASNSXjCqbW",
    "outputId": "a73601a4-18ea-48d0-b7f9-f0fccc42bf82"
   },
   "outputs": [
    {
     "name": "stdout",
     "output_type": "stream",
     "text": [
      "-4 -3 100 1e-10 1e-10\n",
      "c=-3.500000000000000\n",
      "c=-3.250000000000000\n",
      "c=-3.125000000000000\n",
      "c=-3.187500000000000\n",
      "c=-3.156250000000000\n",
      "c=-3.171875000000000\n",
      "c=-3.179687500000000\n",
      "c=-3.183593750000000\n",
      "c=-3.181640625000000\n",
      "c=-3.182617187500000\n",
      "c=-3.183105468750000\n",
      "c=-3.182861328125000\n",
      "c=-3.182983398437500\n",
      "c=-3.183044433593750\n",
      "c=-3.183074951171875\n",
      "c=-3.183059692382812\n",
      "c=-3.183067321777344\n",
      "c=-3.183063507080078\n",
      "c=-3.183061599731445\n",
      "c=-3.183062553405762\n",
      "c=-3.183063030242920\n",
      "c=-3.183062791824341\n",
      "c=-3.183062911033630\n",
      "c=-3.183062970638275\n",
      "c=-3.183063000440598\n",
      "c=-3.183063015341759\n",
      "c=-3.183063007891178\n",
      "c=-3.183063011616468\n",
      "c=-3.183063013479114\n",
      "c=-3.183063012547791\n",
      "c=-3.183063012082130\n",
      "c=-3.183063011849299\n",
      "32 8.747742807901915e-11 2.3283064365386963e-10\n"
     ]
    }
   ],
   "source": [
    "a,b,M,delb,epsb=-4,-3,100,1E-10,1E-10\n",
    "print(a,b,M,delb,epsb)\n",
    "u=mifun(a)\n",
    "v=mifun(b)\n",
    "e=b-a\n",
    "if np.sign(u)!=np.sign(v):\n",
    "  for k in range(1,M):\n",
    "    e=e/2\n",
    "    c=a+e\n",
    "    w=mifun(c)\n",
    "    print('c={0:.15f}'.format(c))\n",
    "    if np.abs(e)<delb or np.abs(w)<epsb :\n",
    "      break\n",
    "    else:\n",
    "      if np.sign(w)!=np.sign(u):\n",
    "        b=c\n",
    "        v=w\n",
    "      else:\n",
    "        a=c\n",
    "        u=w\n",
    "print(k,w,e)"
   ]
  },
  {
   "cell_type": "markdown",
   "metadata": {
    "id": "Zv1aItDGUcbW"
   },
   "source": [
    "Observamos que en la iteración 26 el programa termina con la aproximación $-3.183063015341759$ con longitud del intervalo $|e|\\approx 1.5\\times 10^{-8}$ y con un residuo de $|w|\\approx 3.5\\times 10^{-9}$."
   ]
  },
  {
   "cell_type": "markdown",
   "metadata": {
    "id": "ytVBpj-LUP6l"
   },
   "source": [
    "# Newton"
   ]
  },
  {
   "cell_type": "markdown",
   "metadata": {
    "id": "CbbRdIvKUVUE"
   },
   "source": [
    "En esta sección implementamos el método de newton. Esta vez crearemos una función con el método Newton que reciba los parámetros adecuados e imprima el valor de la aproximación. Otras cantidades pueden ser también incluidas en los parámetros de salida como el residuo y el número de iteraciones, o alternativamente pueden ser impresas dentro de la función.  Tenemos la siguiente función."
   ]
  },
  {
   "cell_type": "code",
   "execution_count": null,
   "metadata": {
    "id": "2eBTj1f1Uq0N"
   },
   "outputs": [],
   "source": [
    "def minewton(f,fp,x0,myeps,mydel,max_iter):\n",
    "    '''f(x)=0 unando newton xn=xa-f(xa)/fp(xa)\n",
    "    ----------\n",
    "    f : funnción\n",
    "    fp : Derivada\n",
    "    x0 : Aproximación inicial\n",
    "    epsilon : Tolerancia residuo.\n",
    "    M : Número maximo de iteraciones\n",
    "    ----------\n",
    "    '''\n",
    "    x = x0\n",
    "    for n in range(0,max_iter):\n",
    "        fx = f(x)\n",
    "        if abs(fx) < myeps:\n",
    "            print('residuo f(x(',n,'))=',fx)\n",
    "            return x\n",
    "        fpx = fp(x)\n",
    "        if fpx == 0:\n",
    "            print('Derivada nula. Error!')\n",
    "            return None\n",
    "        x = x - fx/fpx\n",
    "        print( 'x(',n,')=',x)\n",
    "        if abs(x-x0) < mydel:\n",
    "            print('incremento delta(',n,')=',fx)\n",
    "            return x\n",
    "        x0=x\n",
    "    print('Número maximo de iteraciones')\n",
    "    return None\n"
   ]
  },
  {
   "cell_type": "markdown",
   "metadata": {
    "id": "--nhEQ2LV1Uq"
   },
   "source": [
    "Usemos la función ateriore para resolver la ecuaciones $\\exp(x)-\\sin(x)$"
   ]
  },
  {
   "cell_type": "code",
   "execution_count": null,
   "metadata": {
    "colab": {
     "base_uri": "https://localhost:8080/"
    },
    "id": "d2N151FFWBUQ",
    "outputId": "6aa801fc-cfac-4afd-d802-92e5c111502f"
   },
   "outputs": [
    {
     "name": "stdout",
     "output_type": "stream",
     "text": [
      "x( 0 )= 0.13827893045637507\n",
      "x( 1 )= -6.263457215119403\n",
      "x( 2 )= -6.281316869638125\n",
      "x( 3 )= -6.2813143662108075\n",
      "residuo f(x( 4 ))= 1.2010791666794418e-14\n"
     ]
    }
   ],
   "source": [
    "f = lambda x: np.exp(x)-np.sin(x)\n",
    "fp = lambda x: np.exp(x)-np.cos(x)\n",
    "approx = minewton(f,fp,1,1e-10,1e-10,10)"
   ]
  },
  {
   "cell_type": "markdown",
   "metadata": {
    "id": "zV7Yrq-mOMl7"
   },
   "source": [
    "Podemos usar la siguiente animación para explorar las dos primeras iteraciones de Newton. En particular intente inciar con $x_0\\approx-5.12$."
   ]
  },
  {
   "cell_type": "code",
   "execution_count": null,
   "metadata": {
    "colab": {
     "base_uri": "https://localhost:8080/",
     "height": 314,
     "referenced_widgets": [
      "467d7c58224c419280031dbc80160f71",
      "c073f6607b2a47e28d156a782641b520",
      "cbdff8fcf67b48469d819f48c7e0ba03",
      "2f8c152139e24527b806e258a861e2ce",
      "2419068f144e4e7a9b0ca2e99411476b",
      "7555b72075f04c8a97e58aae6096b151",
      "fcee1e62ddaf462c877578d93a85d7b9"
     ]
    },
    "id": "nxeYhGsuJVk-",
    "outputId": "b732a31d-90f0-4502-f8d4-d446092ca8f3"
   },
   "outputs": [
    {
     "data": {
      "application/vnd.jupyter.widget-view+json": {
       "model_id": "467d7c58224c419280031dbc80160f71",
       "version_major": 2,
       "version_minor": 0
      },
      "text/plain": [
       "interactive(children=(FloatSlider(value=-4.0, description='x0', max=-2.0, min=-6.0, step=0.01), Output()), _do…"
      ]
     },
     "metadata": {},
     "output_type": "display_data"
    }
   ],
   "source": [
    "def animacion_intervalo(x0):\n",
    "  \n",
    "  x = np.arange(-10, 2, 0.1)\n",
    "  y0= np.exp(x0)-np.sin(x0)\n",
    "  y0p=np.exp(x0)-np.cos(x0)\n",
    "  y= np.exp(x)-np.sin(x)\n",
    "  L0=y0+y0p*(x-x0);\n",
    "  x1=x0-y0/y0p;\n",
    "  y1=np.exp(x1)-np.sin(x1)\n",
    "  y1p=np.exp(x1)-np.cos(x1)\n",
    "  L1=y1+y1p*(x-x1);\n",
    "  x2=x1-y1/y1p;\n",
    "  y2=np.exp(x2)-np.sin(x2)\n",
    "\n",
    "\n",
    "  plt.figure(figsize=(15, 5))\n",
    "  plt.plot(x, y, 'b--')\n",
    "  plt.plot(x, 0*y, 'k')\n",
    "  plt.plot(x0,0,color='g',marker='.',markersize=10, label='x_0')\n",
    "  plt.plot(x, L0, 'g-',linewidth=1, label='Tangente en x_0')\n",
    "  plt.plot(x0,y0,color='g',marker='.',markersize=10)\n",
    "  plt.plot(x1,0,color='m',marker='.',markersize=10, label='x_1')\n",
    "  plt.plot(x, L1, 'm-',linewidth=1,label='Tangente en x_1')\n",
    "  plt.plot(x1,y1,color='m',marker='.',markersize=10)\n",
    "  plt.plot(x2,0,color='c',marker='.',markersize=10, label='x_2')\n",
    "\n",
    "  plt.grid(color='g', linestyle='--', linewidth=.5)\n",
    "  plt.xlim(-10,-0)\n",
    "  plt.ylim(-2, 4)\n",
    "  plt.legend()\n",
    "  plt.show()\n",
    "  \n",
    "\n",
    "wd= interactive(animacion_intervalo, x0=(-6, -2, .01))\n",
    "\n",
    "wd"
   ]
  },
  {
   "cell_type": "markdown",
   "metadata": {
    "id": "isBvq0mdmVlX"
   },
   "source": [
    "En este caso $x_0$ corresponde al punto magenta, \n",
    "$x_1$ al unto verde y $x_2$ al punto azul claro. "
   ]
  },
  {
   "cell_type": "markdown",
   "metadata": {
    "id": "RHLL_KcB6e1M"
   },
   "source": [
    "# Punto Fijo\n"
   ]
  },
  {
   "cell_type": "code",
   "execution_count": null,
   "metadata": {
    "id": "vd9HdisobLY-"
   },
   "outputs": [],
   "source": [
    "def miFpf(x):\n",
    "  y=x+np.exp(x)-np.sin(x)\n",
    "  return y"
   ]
  },
  {
   "cell_type": "code",
   "execution_count": null,
   "metadata": {
    "colab": {
     "base_uri": "https://localhost:8080/"
    },
    "id": "-6Td5WoSGREY",
    "outputId": "7ef55d17-cbe4-4fcf-c4fa-a499f683b5e5"
   },
   "outputs": [
    {
     "name": "stdout",
     "output_type": "stream",
     "text": [
      "x=-4.738486856419194\n",
      "x=-5.729394447160081\n",
      "x=-6.252060669705465\n",
      "x=-6.281253801923153\n",
      "x=-6.281314252785754\n",
      "x=-6.281314365998385\n",
      "x=-6.281314366210397\n",
      "x=-6.281314366210795\n",
      "x=-6.281314366210796\n"
     ]
    }
   ],
   "source": [
    "x0=-4\n",
    "for n in range(1,10):\n",
    "  x1=miFpf(x0)\n",
    "  x0=x1\n",
    "  print('x={0:.15f}'.format(x1))"
   ]
  },
  {
   "cell_type": "markdown",
   "metadata": {
    "id": "eIsPPgMN60gA"
   },
   "source": [
    "Observe que existen varias formas de trasformar $f(x)=0$ en una iteración de punto fijo $F(x)=x$.  Presentamos una illustración simple de la iteración. Ver tambien https://www.geogebra.org/m/qUbg7Z6W"
   ]
  },
  {
   "cell_type": "code",
   "execution_count": null,
   "metadata": {
    "colab": {
     "base_uri": "https://localhost:8080/",
     "height": 406
    },
    "id": "I8Pt33clJmvk",
    "outputId": "78ffd7a1-2bac-444d-a5e9-ffe563f0e5c8"
   },
   "outputs": [
    {
     "name": "stdout",
     "output_type": "stream",
     "text": [
      "[0.4472136  0.6687403  0.81776543 0.90430384 0.95094892 0.9751661\n",
      " 0.98750499 0.99373285 0.9968615  0.99842952 0.99921445 0.99960715\n",
      " 0.99980355 0.99990177 0.99995089 0.99997544 0.99998772 0.99999386\n",
      " 0.99999693 0.99999847 0.99999923]\n",
      "21\n"
     ]
    },
    {
     "data": {
      "image/png": "[encoded data removed]",
      "text/plain": [
       "<Figure size 720x360 with 1 Axes>"
      ]
     },
     "metadata": {
      "needs_background": "light",
      "tags": []
     },
     "output_type": "display_data"
    }
   ],
   "source": [
    "def mif(x):\n",
    "  y=np.sqrt(x)\n",
    "  return y\n",
    "tol,M,x0,difnorm,iter,xp= 1E-6,300,.2,1,0,[]\n",
    "xini=x0\n",
    "\n",
    "while(difnorm > tol and iter <  M):\n",
    "  x1 = mif(x0)      \n",
    "  difnorm = norm(x0-x1) \n",
    "  x0 = x1\n",
    "  xp=np.append(xp,x1)  # save the solution of the current step\n",
    "  iter = iter + 1\n",
    "\n",
    "\n",
    "\n",
    "print(xp)\n",
    "print(iter)\n",
    "x = np.linspace(0,2,100)\n",
    "y = mif(x)\n",
    "plt.figure(figsize=(10, 5))\n",
    "plt.plot(x,y,'r',linewidth=5)\n",
    "plt.plot(xp,mif(xp),'bo',markersize=10)\n",
    "plt.plot(x,x,'k')\n",
    "plt.plot(xini,mif(xini),'.g',markersize=20)\n",
    "plt.grid(color='g', linestyle='--', linewidth=.5)\n",
    "plt.show()"
   ]
  },
  {
   "cell_type": "markdown",
   "metadata": {
    "id": "vUQSnXcIAU31"
   },
   "source": [
    "# Librerias"
   ]
  },
  {
   "cell_type": "markdown",
   "metadata": {
    "id": "ts_E_7OuAjkX"
   },
   "source": [
    "Usamos la librería scipy.optimize.fsolve para resolver una ecuacion. Para informacion adicional puede consultar https://docs.scipy.org/doc/scipy-0.13.0/reference/generated/scipy.optimize.fsolve.html#scipy.optimize.fsolve"
   ]
  },
  {
   "cell_type": "code",
   "execution_count": null,
   "metadata": {
    "colab": {
     "base_uri": "https://localhost:8080/"
    },
    "id": "6k40-QpnA7bt",
    "outputId": "322c3aed-32fa-4093-9bc2-ded5b08ea68f"
   },
   "outputs": [
    {
     "name": "stdout",
     "output_type": "stream",
     "text": [
      "[-3] \t\t [0.19090708]\n",
      "[-3.] \t\t [0.19090708]\n",
      "[-3.] \t\t [0.19090708]\n",
      "[-2.99999996] \t\t [0.19090712]\n",
      "[-3.18360341] \t\t [-0.00056233]\n",
      "[-3.18306419] \t\t [-1.22193941e-06]\n",
      "[-3.18306301] \t\t [2.63640845e-11]\n",
      "[-3.18306301] \t\t [2.15105711e-16]\n",
      "[-3.18306301]\n",
      "[-3.18306301] \t\t [2.15105711e-16]\n",
      "[2.15105711e-16]\n"
     ]
    }
   ],
   "source": [
    "from scipy.optimize import fsolve\n",
    "\n",
    "def myfun2(x):\n",
    "   y = np.exp(x)-np.sin(x)\n",
    "   print(x,'\\t\\t',y)\n",
    "   return y\n",
    "\n",
    "z = fsolve(myfun2,-3)\n",
    "print(z)\n",
    "print(myfun2(z))"
   ]
  },
  {
   "cell_type": "markdown",
   "metadata": {
    "id": "1TDwfG_bWT4l"
   },
   "source": [
    "Obtenemos la raiz $r\\approx-3.18306301$ con un residuo $\\approx 2\\times 10^{-16}$. Usemos ahora scipy para resolver un sistema de tres ecuaciones con tres incognitas. Agregamos print dentro de la función para imprimir los iterados. "
   ]
  },
  {
   "cell_type": "code",
   "execution_count": null,
   "metadata": {
    "colab": {
     "base_uri": "https://localhost:8080/"
    },
    "id": "bSsHershWiCu",
    "outputId": "ab771958-2857-4989-fc59-e08485190a81"
   },
   "outputs": [
    {
     "name": "stdout",
     "output_type": "stream",
     "text": [
      "[0 1 0]\n",
      "[0. 1. 0.]\n",
      "[0. 1. 0.]\n",
      "[1.49011612e-08 1.00000000e+00 0.00000000e+00]\n",
      "[0.         1.00000001 0.        ]\n",
      "[0.00000000e+00 1.00000000e+00 1.49011612e-08]\n",
      "[2.98023206e-08 5.00000004e-01 1.99999989e+00]\n",
      "[2.15224589 0.63095647 0.40336098]\n",
      "[0.70471843 0.75002461 1.92043266]\n",
      "[1.71223427 0.71676582 0.90555853]\n",
      "[1.28040009 0.89465479 0.62982444]\n",
      "[1.12818885 0.84469574 0.83379873]\n",
      "[1.04078636 0.70022687 0.85312251]\n",
      "[1.1672988  0.71334999 0.97766916]\n",
      "[1.11339844 0.73465633 0.87826283]\n",
      "[1.12912734 0.72850593 0.90563147]\n",
      "[1.12929794 0.72788239 0.9068089 ]\n",
      "[1.12925282 0.72794401 0.90666318]\n",
      "[1.12925139 0.727945   0.90666039]\n",
      "[1.12925132 0.72794503 0.9066603 ]\n",
      "[1.12925132 0.72794503 0.90666029]\n",
      "[1.12925132 0.72794503 0.90666029]\n"
     ]
    }
   ],
   "source": [
    "def myFvec(x):\n",
    "  y = np.empty((3))\n",
    "  y[0]=x[0]*x[1]-x[2]**2\n",
    "  y[1]=x[0]*x[1]*x[2]-x[0]**2+x[1]**2\n",
    "  y[2]=np.exp(x[0])-np.exp(y[1])+x[2]-3\n",
    "  print(x)\n",
    "  return y\n",
    "\n",
    "x0 = np.array([0,1,0])\n",
    "r = fsolve(myFvec,x0)\n",
    "print(r)"
   ]
  },
  {
   "cell_type": "markdown",
   "metadata": {
    "id": "qAA-Oufme-xt"
   },
   "source": [
    "# Problemas\n"
   ]
  },
  {
   "cell_type": "markdown",
   "metadata": {
    "id": "xGLMtwVENb8-"
   },
   "source": [
    "**Problema (Kelley)** Considere el método de Shamanskii de orden $m$ definido de la siguiente manera. Dado $x_n$ calcule $x_{n+1}$ usando $m$ pasos del método de la cuerda, esto es, \n",
    "\n",
    "$z_1=x_n-f(x_n)/f'(x_n)$\n",
    "\n",
    "$z_{j+1}=z_{j}-f(z_j)/f'(x_n)$, $1\\leq j\\leq m-1$\n",
    "\n",
    "$x_{n+1}=z_{m}$.\n",
    "\n",
    "Observe que se avanza m pasos sin actualiar la derivada en el punto. Implemente el método para un order $m$ definido por el usuario y verifique su código con una ecuación escalar. "
   ]
  },
  {
   "cell_type": "markdown",
   "metadata": {
    "id": "-ZDAWaUcK6Gx"
   },
   "source": [
    "**Problema (Kelley, Iterative methodos for linear and non linear equations)** Resuelva las siguientes ecuaiones $f(x)=0$ usando el Método de newton, el método de la secante (para este inicie la iteración en $x_{-1}$ con $x_{-1}=0.99x_0$) y el método de Shamanskii con $m=2,3,4$. Comente los resultados. Puede hacer tablas o plots con las iteraciones.\n",
    "\n",
    "\n",
    "1.   $f(x)=\\cos(x)-x$,  $\\quad x_0=.5$.\n",
    "2.   $f(x)=\\arctan(x)$,  $\\quad x_0=1$.\n",
    "3.   $f(x)=\\sin(x)$, $\\quad  x_0=3$.\n",
    "4.   $f(x)=x^2$,  $\\quad  x_0=.5$.\n",
    "5.   $f(x)=x^2+1$,  $\\quad  x_0=10$.\n",
    "\n"
   ]
  },
  {
   "cell_type": "markdown",
   "metadata": {
    "id": "DUNcnYT83Y80"
   },
   "source": [
    "**Problema(Quarteroni, Saleri, Gervasio)** Considere un plano cuya pendiente varía con tasa constante $\\omega$ y un punto de masa quieto en el tiempo $t=0$. En el tiempo $t>0$ su posición es dada por\n",
    "$$s(t,\\omega)= \\frac{g}{2\\omega^2}\\Big[ \\sinh(\\omega t)-\\sin(\\omega t) \\Big] $$\n",
    "donde $g=9.8 \\frac{m}{s^2}$. Suponga que el objeto se ha movido 1 metro en un segundo, calcule el valor correspondiente de $\\omega$ con 12 decimales exactos. "
   ]
  },
  {
   "cell_type": "markdown",
   "metadata": {
    "id": "kbGWtFXG3Y80"
   },
   "source": [
    "![Captura de pantalla de 2021-03-20 13-54-08.png](data:image/png;base64,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)"
   ]
  },
  {
   "cell_type": "markdown",
   "metadata": {
    "id": "9P_TtEjz3Y81"
   },
   "source": [
    "**Problema (Quarteroni, Saleri, Gervasio)** La longitud maxima de una varilla que se puede arrastrar de un extremo a otro deslizandola por un pasillo como el de la fiugra es \n",
    "$$L=\\frac{l_2}{\\sin(\\pi-\\gamma-\\alpha)}+\\frac{l_1}{\\sin(\\alpha)}$$\n",
    "donde $\\alpha$ es la solución de la ecuación\n",
    "$$ l_2 \\frac{\\cos(\\pi-\\gamma-\\alpha)}{\\sin^2(\\pi-\\gamma-\\alpha)}-l_1\\frac{\\cos(\\alpha)}{\\sin^2(\\alpha)}=0.$$\n",
    "Calcule $\\alpha$ cuando $l_2=10$, $l_1=8$ y $\\gamma=\\frac{3\\pi}{5}$. ¿Cuántos decimales puede garantizar para $\\alpha$ y $L$?"
   ]
  },
  {
   "cell_type": "markdown",
   "metadata": {
    "id": "zEbEcSCX3Y81"
   },
   "source": [
    "**Problema** Selecciones dos de los métodos en https://docs.scipy.org/doc/scipy-0.13.0/reference/optimize.html en la sección Root finding, diga cual es el método numerico implementado (e.g, similar a newton, usa derivadas, no usa derivadas, combina varios métodos, llama alguna otra subrutina conocida encontrada en netlib, cuales son las toleracias por defecto, etc)  y para cada uno de los métodos seleccionados implementar un ejemplo numérico con una ecuación escalar o una ecuación vectorial según sea el caso. Imprima la solución calculada asi como alguna informacion adicional (residuo, cantidad de iteraciones, etc). \n",
    "\n",
    "Si usa MatLab seleccione dos de entre los métodos como fsolve, froot, fzero, roots, o similares (https://la.mathworks.com/help/optim/systems-of-nonlinear-equations.html). Análogamente para octave (https://octave.org/doc/v4.2.0/Solvers.html), julia, etc."
   ]
  },
  {
   "cell_type": "markdown",
   "metadata": {
    "id": "I28slkSm9nBN"
   },
   "source": [
    "# Referencias\n",
    "\n",
    "\n",
    "\n",
    "\n",
    "*   Sullivan, Eric. Numerical Methods: An Inquiry-Based Approach With Python. 2020.\n",
    "*   Bulirsch, Roland, Josef Stoer, and J. Stoer. Introduction to numerical analysis. Vol. 3. Heidelberg: Springer, 2002.\n",
    "*  Stewart, Gilbert W. Afternotes on numerical analysis. Society for Industrial and Applied Mathematics, 1996.\n",
    "*  Quarteroni, Alfio, Fausto Saleri, and Paola Gervasio. Scientific computing with MATLAB and Octave. Vol. 3. Berlin: Springer, 2006."
   ]
  }
 ],
 "metadata": {
  "colab": {
   "provenance": []
  },
  "kernelspec": {
   "display_name": "Python 3 (ipykernel)",
   "language": "python",
   "name": "python3"
  },
  "language_info": {
   "codemirror_mode": {
    "name": "ipython",
    "version": 3
   },
   "file_extension": ".py",
   "mimetype": "text/x-python",
   "name": "python",
   "nbconvert_exporter": "python",
   "pygments_lexer": "ipython3",
   "version": "3.9.12"
  },
  "widgets": {
   "application/vnd.jupyter.widget-state+json": {
    "2419068f144e4e7a9b0ca2e99411476b": {
     "model_module": "@jupyter-widgets/base",
     "model_module_version": "1.2.0",
     "model_name": "LayoutModel",
     "state": {
      "_model_module": "@jupyter-widgets/base",
      "_model_module_version": "1.2.0",
      "_model_name": "LayoutModel",
      "_view_count": null,
      "_view_module": "@jupyter-widgets/base",
      "_view_module_version": "1.2.0",
      "_view_name": "LayoutView",
      "align_content": null,
      "align_items": null,
      "align_self": null,
      "border": null,
      "bottom": null,
      "display": null,
      "flex": null,
      "flex_flow": null,
      "grid_area": null,
      "grid_auto_columns": null,
      "grid_auto_flow": null,
      "grid_auto_rows": null,
      "grid_column": null,
      "grid_gap": null,
      "grid_row": null,
      "grid_template_areas": null,
      "grid_template_columns": null,
      "grid_template_rows": null,
      "height": null,
      "justify_content": null,
      "justify_items": null,
      "left": null,
      "margin": null,
      "max_height": null,
      "max_width": null,
      "min_height": null,
      "min_width": null,
      "object_fit": null,
      "object_position": null,
      "order": null,
      "overflow": null,
      "overflow_x": null,
      "overflow_y": null,
      "padding": null,
      "right": null,
      "top": null,
      "visibility": null,
      "width": null
     }
    },
    "2f8c152139e24527b806e258a861e2ce": {
     "model_module": "@jupyter-widgets/base",
     "model_module_version": "1.2.0",
     "model_name": "LayoutModel",
     "state": {
      "_model_module": "@jupyter-widgets/base",
      "_model_module_version": "1.2.0",
      "_model_name": "LayoutModel",
      "_view_count": null,
      "_view_module": "@jupyter-widgets/base",
      "_view_module_version": "1.2.0",
      "_view_name": "LayoutView",
      "align_content": null,
      "align_items": null,
      "align_self": null,
      "border": null,
      "bottom": null,
      "display": null,
      "flex": null,
      "flex_flow": null,
      "grid_area": null,
      "grid_auto_columns": null,
      "grid_auto_flow": null,
      "grid_auto_rows": null,
      "grid_column": null,
      "grid_gap": null,
      "grid_row": null,
      "grid_template_areas": null,
      "grid_template_columns": null,
      "grid_template_rows": null,
      "height": null,
      "justify_content": null,
      "justify_items": null,
      "left": null,
      "margin": null,
      "max_height": null,
      "max_width": null,
      "min_height": null,
      "min_width": null,
      "object_fit": null,
      "object_position": null,
      "order": null,
      "overflow": null,
      "overflow_x": null,
      "overflow_y": null,
      "padding": null,
      "right": null,
      "top": null,
      "visibility": null,
      "width": null
     }
    },
    "378afa297176452586c9b66bb0046c0b": {
     "model_module": "@jupyter-widgets/controls",
     "model_module_version": "1.5.0",
     "model_name": "FloatSliderModel",
     "state": {
      "_dom_classes": [],
      "_model_module": "@jupyter-widgets/controls",
      "_model_module_version": "1.5.0",
      "_model_name": "FloatSliderModel",
      "_view_count": null,
      "_view_module": "@jupyter-widgets/controls",
      "_view_module_version": "1.5.0",
      "_view_name": "FloatSliderView",
      "continuous_update": true,
      "description": "a",
      "description_tooltip": null,
      "disabled": false,
      "layout": "IPY_MODEL_9f51eaa460ea41d6b4a8ca2735c53916",
      "max": 10,
      "min": -10,
      "orientation": "horizontal",
      "readout": true,
      "readout_format": ".2f",
      "step": 0.1,
      "style": "IPY_MODEL_675b45ec2dac4bc7a84a65d1e5a3db87",
      "value": -8.1
     }
    },
    "467d7c58224c419280031dbc80160f71": {
     "model_module": "@jupyter-widgets/controls",
     "model_module_version": "1.5.0",
     "model_name": "VBoxModel",
     "state": {
      "_dom_classes": [
       "widget-interact"
      ],
      "_model_module": "@jupyter-widgets/controls",
      "_model_module_version": "1.5.0",
      "_model_name": "VBoxModel",
      "_view_count": null,
      "_view_module": "@jupyter-widgets/controls",
      "_view_module_version": "1.5.0",
      "_view_name": "VBoxView",
      "box_style": "",
      "children": [
       "IPY_MODEL_c073f6607b2a47e28d156a782641b520",
       "IPY_MODEL_cbdff8fcf67b48469d819f48c7e0ba03"
      ],
      "layout": "IPY_MODEL_2f8c152139e24527b806e258a861e2ce"
     }
    },
    "656df1d077e7425496158602d61a32b8": {
     "model_module": "@jupyter-widgets/base",
     "model_module_version": "1.2.0",
     "model_name": "LayoutModel",
     "state": {
      "_model_module": "@jupyter-widgets/base",
      "_model_module_version": "1.2.0",
      "_model_name": "LayoutModel",
      "_view_count": null,
      "_view_module": "@jupyter-widgets/base",
      "_view_module_version": "1.2.0",
      "_view_name": "LayoutView",
      "align_content": null,
      "align_items": null,
      "align_self": null,
      "border": null,
      "bottom": null,
      "display": null,
      "flex": null,
      "flex_flow": null,
      "grid_area": null,
      "grid_auto_columns": null,
      "grid_auto_flow": null,
      "grid_auto_rows": null,
      "grid_column": null,
      "grid_gap": null,
      "grid_row": null,
      "grid_template_areas": null,
      "grid_template_columns": null,
      "grid_template_rows": null,
      "height": null,
      "justify_content": null,
      "justify_items": null,
      "left": null,
      "margin": null,
      "max_height": null,
      "max_width": null,
      "min_height": null,
      "min_width": null,
      "object_fit": null,
      "object_position": null,
      "order": null,
      "overflow": null,
      "overflow_x": null,
      "overflow_y": null,
      "padding": null,
      "right": null,
      "top": null,
      "visibility": null,
      "width": null
     }
    },
    "675b45ec2dac4bc7a84a65d1e5a3db87": {
     "model_module": "@jupyter-widgets/controls",
     "model_module_version": "1.5.0",
     "model_name": "SliderStyleModel",
     "state": {
      "_model_module": "@jupyter-widgets/controls",
      "_model_module_version": "1.5.0",
      "_model_name": "SliderStyleModel",
      "_view_count": null,
      "_view_module": "@jupyter-widgets/base",
      "_view_module_version": "1.2.0",
      "_view_name": "StyleView",
      "description_width": "",
      "handle_color": null
     }
    },
    "7085c486adbd44c2a61aa19729927077": {
     "model_module": "@jupyter-widgets/base",
     "model_module_version": "1.2.0",
     "model_name": "LayoutModel",
     "state": {
      "_model_module": "@jupyter-widgets/base",
      "_model_module_version": "1.2.0",
      "_model_name": "LayoutModel",
      "_view_count": null,
      "_view_module": "@jupyter-widgets/base",
      "_view_module_version": "1.2.0",
      "_view_name": "LayoutView",
      "align_content": null,
      "align_items": null,
      "align_self": null,
      "border": null,
      "bottom": null,
      "display": null,
      "flex": null,
      "flex_flow": null,
      "grid_area": null,
      "grid_auto_columns": null,
      "grid_auto_flow": null,
      "grid_auto_rows": null,
      "grid_column": null,
      "grid_gap": null,
      "grid_row": null,
      "grid_template_areas": null,
      "grid_template_columns": null,
      "grid_template_rows": null,
      "height": null,
      "justify_content": null,
      "justify_items": null,
      "left": null,
      "margin": null,
      "max_height": null,
      "max_width": null,
      "min_height": null,
      "min_width": null,
      "object_fit": null,
      "object_position": null,
      "order": null,
      "overflow": null,
      "overflow_x": null,
      "overflow_y": null,
      "padding": null,
      "right": null,
      "top": null,
      "visibility": null,
      "width": null
     }
    },
    "7555b72075f04c8a97e58aae6096b151": {
     "model_module": "@jupyter-widgets/controls",
     "model_module_version": "1.5.0",
     "model_name": "SliderStyleModel",
     "state": {
      "_model_module": "@jupyter-widgets/controls",
      "_model_module_version": "1.5.0",
      "_model_name": "SliderStyleModel",
      "_view_count": null,
      "_view_module": "@jupyter-widgets/base",
      "_view_module_version": "1.2.0",
      "_view_name": "StyleView",
      "description_width": "",
      "handle_color": null
     }
    },
    "9f51eaa460ea41d6b4a8ca2735c53916": {
     "model_module": "@jupyter-widgets/base",
     "model_module_version": "1.2.0",
     "model_name": "LayoutModel",
     "state": {
      "_model_module": "@jupyter-widgets/base",
      "_model_module_version": "1.2.0",
      "_model_name": "LayoutModel",
      "_view_count": null,
      "_view_module": "@jupyter-widgets/base",
      "_view_module_version": "1.2.0",
      "_view_name": "LayoutView",
      "align_content": null,
      "align_items": null,
      "align_self": null,
      "border": null,
      "bottom": null,
      "display": null,
      "flex": null,
      "flex_flow": null,
      "grid_area": null,
      "grid_auto_columns": null,
      "grid_auto_flow": null,
      "grid_auto_rows": null,
      "grid_column": null,
      "grid_gap": null,
      "grid_row": null,
      "grid_template_areas": null,
      "grid_template_columns": null,
      "grid_template_rows": null,
      "height": null,
      "justify_content": null,
      "justify_items": null,
      "left": null,
      "margin": null,
      "max_height": null,
      "max_width": null,
      "min_height": null,
      "min_width": null,
      "object_fit": null,
      "object_position": null,
      "order": null,
      "overflow": null,
      "overflow_x": null,
      "overflow_y": null,
      "padding": null,
      "right": null,
      "top": null,
      "visibility": null,
      "width": null
     }
    },
    "bd12790a26aa4a018d8596d8aabf6881": {
     "model_module": "@jupyter-widgets/output",
     "model_module_version": "1.0.0",
     "model_name": "OutputModel",
     "state": {
      "_dom_classes": [],
      "_model_module": "@jupyter-widgets/output",
      "_model_module_version": "1.0.0",
      "_model_name": "OutputModel",
      "_view_count": null,
      "_view_module": "@jupyter-widgets/output",
      "_view_module_version": "1.0.0",
      "_view_name": "OutputView",
      "layout": "IPY_MODEL_656df1d077e7425496158602d61a32b8",
      "msg_id": "",
      "outputs": [
       {
        "data": {
         "image/png": "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\n",
         "text/plain": "<Figure size 720x360 with 1 Axes>"
        },
        "metadata": {
         "needs_background": "light"
        },
        "output_type": "display_data"
       }
      ]
     }
    },
    "c073f6607b2a47e28d156a782641b520": {
     "model_module": "@jupyter-widgets/controls",
     "model_module_version": "1.5.0",
     "model_name": "FloatSliderModel",
     "state": {
      "_dom_classes": [],
      "_model_module": "@jupyter-widgets/controls",
      "_model_module_version": "1.5.0",
      "_model_name": "FloatSliderModel",
      "_view_count": null,
      "_view_module": "@jupyter-widgets/controls",
      "_view_module_version": "1.5.0",
      "_view_name": "FloatSliderView",
      "continuous_update": true,
      "description": "x0",
      "description_tooltip": null,
      "disabled": false,
      "layout": "IPY_MODEL_2419068f144e4e7a9b0ca2e99411476b",
      "max": -2,
      "min": -6,
      "orientation": "horizontal",
      "readout": true,
      "readout_format": ".2f",
      "step": 0.01,
      "style": "IPY_MODEL_7555b72075f04c8a97e58aae6096b151",
      "value": -4
     }
    },
    "c14829a241a04b6aa66f266c0a318f46": {
     "model_module": "@jupyter-widgets/controls",
     "model_module_version": "1.5.0",
     "model_name": "SliderStyleModel",
     "state": {
      "_model_module": "@jupyter-widgets/controls",
      "_model_module_version": "1.5.0",
      "_model_name": "SliderStyleModel",
      "_view_count": null,
      "_view_module": "@jupyter-widgets/base",
      "_view_module_version": "1.2.0",
      "_view_name": "StyleView",
      "description_width": "",
      "handle_color": null
     }
    },
    "cbdff8fcf67b48469d819f48c7e0ba03": {
     "model_module": "@jupyter-widgets/output",
     "model_module_version": "1.0.0",
     "model_name": "OutputModel",
     "state": {
      "_dom_classes": [],
      "_model_module": "@jupyter-widgets/output",
      "_model_module_version": "1.0.0",
      "_model_name": "OutputModel",
      "_view_count": null,
      "_view_module": "@jupyter-widgets/output",
      "_view_module_version": "1.0.0",
      "_view_name": "OutputView",
      "layout": "IPY_MODEL_fcee1e62ddaf462c877578d93a85d7b9",
      "msg_id": "",
      "outputs": [
       {
        "data": {
         "image/png": "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\n",
         "text/plain": "<Figure size 1080x360 with 1 Axes>"
        },
        "metadata": {
         "needs_background": "light"
        },
        "output_type": "display_data"
       }
      ]
     }
    },
    "ea6dd35a3af54d43895a34f7bb4c5e17": {
     "model_module": "@jupyter-widgets/controls",
     "model_module_version": "1.5.0",
     "model_name": "FloatSliderModel",
     "state": {
      "_dom_classes": [],
      "_model_module": "@jupyter-widgets/controls",
      "_model_module_version": "1.5.0",
      "_model_name": "FloatSliderModel",
      "_view_count": null,
      "_view_module": "@jupyter-widgets/controls",
      "_view_module_version": "1.5.0",
      "_view_name": "FloatSliderView",
      "continuous_update": true,
      "description": "e",
      "description_tooltip": null,
      "disabled": false,
      "layout": "IPY_MODEL_7085c486adbd44c2a61aa19729927077",
      "max": 10,
      "min": 0.1,
      "orientation": "horizontal",
      "readout": true,
      "readout_format": ".2f",
      "step": 0.1,
      "style": "IPY_MODEL_c14829a241a04b6aa66f266c0a318f46",
      "value": 7.5
     }
    },
    "ec28daf1452642129b5933764521dba2": {
     "model_module": "@jupyter-widgets/base",
     "model_module_version": "1.2.0",
     "model_name": "LayoutModel",
     "state": {
      "_model_module": "@jupyter-widgets/base",
      "_model_module_version": "1.2.0",
      "_model_name": "LayoutModel",
      "_view_count": null,
      "_view_module": "@jupyter-widgets/base",
      "_view_module_version": "1.2.0",
      "_view_name": "LayoutView",
      "align_content": null,
      "align_items": null,
      "align_self": null,
      "border": null,
      "bottom": null,
      "display": null,
      "flex": null,
      "flex_flow": null,
      "grid_area": null,
      "grid_auto_columns": null,
      "grid_auto_flow": null,
      "grid_auto_rows": null,
      "grid_column": null,
      "grid_gap": null,
      "grid_row": null,
      "grid_template_areas": null,
      "grid_template_columns": null,
      "grid_template_rows": null,
      "height": null,
      "justify_content": null,
      "justify_items": null,
      "left": null,
      "margin": null,
      "max_height": null,
      "max_width": null,
      "min_height": null,
      "min_width": null,
      "object_fit": null,
      "object_position": null,
      "order": null,
      "overflow": null,
      "overflow_x": null,
      "overflow_y": null,
      "padding": null,
      "right": null,
      "top": null,
      "visibility": null,
      "width": null
     }
    },
    "ef791123dda94204a597371cbfbdbaa5": {
     "model_module": "@jupyter-widgets/controls",
     "model_module_version": "1.5.0",
     "model_name": "VBoxModel",
     "state": {
      "_dom_classes": [
       "widget-interact"
      ],
      "_model_module": "@jupyter-widgets/controls",
      "_model_module_version": "1.5.0",
      "_model_name": "VBoxModel",
      "_view_count": null,
      "_view_module": "@jupyter-widgets/controls",
      "_view_module_version": "1.5.0",
      "_view_name": "VBoxView",
      "box_style": "",
      "children": [
       "IPY_MODEL_378afa297176452586c9b66bb0046c0b",
       "IPY_MODEL_ea6dd35a3af54d43895a34f7bb4c5e17",
       "IPY_MODEL_bd12790a26aa4a018d8596d8aabf6881"
      ],
      "layout": "IPY_MODEL_ec28daf1452642129b5933764521dba2"
     }
    },
    "fcee1e62ddaf462c877578d93a85d7b9": {
     "model_module": "@jupyter-widgets/base",
     "model_module_version": "1.2.0",
     "model_name": "LayoutModel",
     "state": {
      "_model_module": "@jupyter-widgets/base",
      "_model_module_version": "1.2.0",
      "_model_name": "LayoutModel",
      "_view_count": null,
      "_view_module": "@jupyter-widgets/base",
      "_view_module_version": "1.2.0",
      "_view_name": "LayoutView",
      "align_content": null,
      "align_items": null,
      "align_self": null,
      "border": null,
      "bottom": null,
      "display": null,
      "flex": null,
      "flex_flow": null,
      "grid_area": null,
      "grid_auto_columns": null,
      "grid_auto_flow": null,
      "grid_auto_rows": null,
      "grid_column": null,
      "grid_gap": null,
      "grid_row": null,
      "grid_template_areas": null,
      "grid_template_columns": null,
      "grid_template_rows": null,
      "height": null,
      "justify_content": null,
      "justify_items": null,
      "left": null,
      "margin": null,
      "max_height": null,
      "max_width": null,
      "min_height": null,
      "min_width": null,
      "object_fit": null,
      "object_position": null,
      "order": null,
      "overflow": null,
      "overflow_x": null,
      "overflow_y": null,
      "padding": null,
      "right": null,
      "top": null,
      "visibility": null,
      "width": null
     }
    }
   }
  }
 },
 "nbformat": 4,
 "nbformat_minor": 1
}
