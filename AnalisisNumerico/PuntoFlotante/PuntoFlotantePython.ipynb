{
  "nbformat": 4,
  "nbformat_minor": 0,
  "metadata": {
    "colab": {
      "name": "PuntoFlotanteAN2022.ipynb",
      "provenance": [],
      "authorship_tag": "ABX9TyMW9dwQ8zoTIiuNRmDLwPT2",
      "include_colab_link": true
    },
    "kernelspec": {
      "name": "python3",
      "display_name": "Python 3"
    },
    "language_info": {
      "name": "python"
    }
  },
  "cells": [
    {
      "cell_type": "markdown",
      "metadata": {
        "id": "view-in-github",
        "colab_type": "text"
      },
      "source": [
        "<a href=\"https://colab.research.google.com/github/jcgalvisa/NA/blob/main/PuntoFlotante/PuntoFlotanteAN2022.ipynb\" target=\"_parent\"><img src=\"https://colab.research.google.com/assets/colab-badge.svg\" alt=\"Open In Colab\"/></a>"
      ]
    },
    {
      "cell_type": "markdown",
      "metadata": {
        "id": "najMuOio1AXy"
      },
      "source": [
        "# Algunos ejemplos  con números de máquina"
      ]
    },
    {
      "cell_type": "markdown",
      "metadata": {
        "id": "R1Os7c9elIjR"
      },
      "source": [
        "Presentamos ilustraciones simples de cálculo con números de máquina y redondeo. Usaremos los modulos [numpy](https://numpy.org/) and [math](https://docs.python.org/3/library/math.html)."
      ]
    },
    {
      "cell_type": "code",
      "metadata": {
        "id": "Eb4kh95n29qN"
      },
      "source": [
        "import numpy as np\n",
        "import math\n",
        "import matplotlib.pyplot as plt"
      ],
      "execution_count": null,
      "outputs": []
    },
    {
      "cell_type": "markdown",
      "source": [
        "En python tenemos el tipo de dato **float** que corresponde al formato de punto flotante de 64 bits (8 Bytes) parecido al estudiado en clase. "
      ],
      "metadata": {
        "id": "ya8pd88f_nmY"
      }
    },
    {
      "cell_type": "code",
      "metadata": {
        "colab": {
          "base_uri": "https://localhost:8080/"
        },
        "id": "RZ9npllcGf-r",
        "outputId": "9da91aa9-f9c5-4b02-ca77-3be084b7a8ac"
      },
      "source": [
        "x=math.pi\n",
        "print(type(x))"
      ],
      "execution_count": null,
      "outputs": [
        {
          "output_type": "stream",
          "name": "stdout",
          "text": [
            "<class 'float'>\n"
          ]
        }
      ]
    },
    {
      "cell_type": "markdown",
      "metadata": {
        "id": "DtrllVM3Nu_O"
      },
      "source": [
        "En Python podemos formatear  cuando imprimimos datos de punto flotante. Por ejemplo. "
      ]
    },
    {
      "cell_type": "code",
      "metadata": {
        "id": "BfmW5a-LDaNs",
        "colab": {
          "base_uri": "https://localhost:8080/"
        },
        "outputId": "8cda760d-4f25-4550-b3fd-281350b0ee1b"
      },
      "source": [
        "x=4*np.pi\n",
        "y=5E+15*np.pi**9\n",
        "print('x= {:10.2f}, x = {:.20f}, y = {:.6e}'.format(x, x, y))\n",
        "print('x= {:2.4e}, x = {:.3E}'.format(x, x, y))"
      ],
      "execution_count": null,
      "outputs": [
        {
          "output_type": "stream",
          "name": "stdout",
          "text": [
            "x=      12.57, x = 12.56637061435917246399, y = 1.490455e+20\n",
            "x= 1.2566e+01, x = 1.257E+01\n"
          ]
        }
      ]
    },
    {
      "cell_type": "markdown",
      "source": [
        "Tambien podemos proceder como sigue."
      ],
      "metadata": {
        "id": "6Z6TU9DTFHt1"
      }
    },
    {
      "cell_type": "code",
      "metadata": {
        "id": "8FG3J1vDGUb3",
        "colab": {
          "base_uri": "https://localhost:8080/"
        },
        "outputId": "b9071a17-f34d-4ea8-d227-b71671c7c8ee"
      },
      "source": [
        "print( 'x=%.2f y y=%.2g'%(x,y))"
      ],
      "execution_count": null,
      "outputs": [
        {
          "output_type": "stream",
          "name": "stdout",
          "text": [
            "x=12.57 y y=1.5e+20\n"
          ]
        }
      ]
    },
    {
      "cell_type": "markdown",
      "metadata": {
        "id": "ngje82bO8_s5"
      },
      "source": [
        "Debemos tener cuidado al comparar dos variables de tipo float en condiciones para control condicional o control iterativo. Considere los siguientes ejemplos. \n",
        " "
      ]
    },
    {
      "cell_type": "code",
      "source": [
        "0.1+0.1==0.2"
      ],
      "metadata": {
        "colab": {
          "base_uri": "https://localhost:8080/"
        },
        "id": "KtoM4mxCFi_d",
        "outputId": "0eee9c51-359f-42ec-ab1b-785483ac96b0"
      },
      "execution_count": null,
      "outputs": [
        {
          "output_type": "execute_result",
          "data": {
            "text/plain": [
              "True"
            ]
          },
          "metadata": {},
          "execution_count": 5
        }
      ]
    },
    {
      "cell_type": "code",
      "metadata": {
        "id": "jqUTSGax7fEV",
        "colab": {
          "base_uri": "https://localhost:8080/"
        },
        "outputId": "add4614b-fddc-48c3-8bd5-814f29195413"
      },
      "source": [
        "0.1+0.1+.1==0.3"
      ],
      "execution_count": null,
      "outputs": [
        {
          "output_type": "execute_result",
          "data": {
            "text/plain": [
              "False"
            ]
          },
          "metadata": {},
          "execution_count": 6
        }
      ]
    },
    {
      "cell_type": "code",
      "metadata": {
        "colab": {
          "base_uri": "https://localhost:8080/"
        },
        "id": "B5Guhnxucma3",
        "outputId": "b985740f-ec31-430c-ae33-7cbe3cc25f10"
      },
      "source": [
        "np.abs(0.1+0.1+0.1-0.3)<0.0000000000000001"
      ],
      "execution_count": null,
      "outputs": [
        {
          "output_type": "execute_result",
          "data": {
            "text/plain": [
              "True"
            ]
          },
          "metadata": {},
          "execution_count": 7
        }
      ]
    },
    {
      "cell_type": "markdown",
      "metadata": {
        "id": "t5DCAesM3eT6"
      },
      "source": [
        " Veamos que pasa si intentamos sumar $x=1/10$ varias veces, esto es, $\\sum_{i=1}^N 0.1$. Veamos la siguiente implementación."
      ]
    },
    {
      "cell_type": "code",
      "metadata": {
        "id": "dPA6pfz83Ad9",
        "colab": {
          "base_uri": "https://localhost:8080/"
        },
        "outputId": "18c57532-9d7c-4517-947a-e3f7e5f520b2"
      },
      "source": [
        "s=0\n",
        "n=np.power(10,6)\n",
        "sumas=0.0\n",
        "for i in range(0,n):\n",
        "  s=s+(1/10) # note que se suma n veces pues ya en 0 suma una vez.\n",
        "  sumas=sumas+1\n",
        "print('Despues de ',sumas, ' sumas de 1/10, el resultado es',s)\n",
        "x=1/10\n",
        "p=n*x\n",
        "print('El producto es : ',p)"
      ],
      "execution_count": null,
      "outputs": [
        {
          "output_type": "stream",
          "name": "stdout",
          "text": [
            "Despues de  1000000.0  sumas de 1/10, el resultado es 100000.00000133288\n",
            "El producto es :  100000.0\n"
          ]
        }
      ]
    },
    {
      "cell_type": "markdown",
      "metadata": {
        "id": "UVA9YbMC3p0t"
      },
      "source": [
        "Calculemos el error relativo de la aproximación anterior.\n"
      ]
    },
    {
      "cell_type": "code",
      "metadata": {
        "id": "BLy8Pxqg3LeI",
        "colab": {
          "base_uri": "https://localhost:8080/"
        },
        "outputId": "83c10472-e1fa-482c-a04d-1282e976b2f4"
      },
      "source": [
        "err=np.abs((s-p)/p)\n",
        "print(100*err,'%')"
      ],
      "execution_count": null,
      "outputs": [
        {
          "output_type": "stream",
          "name": "stdout",
          "text": [
            "1.3328826753422618e-09 %\n"
          ]
        }
      ]
    },
    {
      "cell_type": "markdown",
      "metadata": {
        "id": "TEcnGdrw99wj"
      },
      "source": [
        "Este ejemplo puede ser considerado como un ejemplo de un algoritmo inestable para calcular $\\sum_{i=1}^N 0.1$."
      ]
    },
    {
      "cell_type": "markdown",
      "metadata": {
        "id": "L-CR8SdjR6OL"
      },
      "source": [
        "Recuerde que tenemos redondedo con 15 o 16 decimales exactos. Más precisión que eso no se puede garantizar. Observe por ejemplo el siguiente código, "
      ]
    },
    {
      "cell_type": "code",
      "metadata": {
        "id": "hZdgKDyFQhy2",
        "colab": {
          "base_uri": "https://localhost:8080/"
        },
        "outputId": "dc5020b3-ac2a-46af-b00c-d276c9603b43"
      },
      "source": [
        "x=np.pi\n",
        "print(type(x))\n",
        "print(\"x={0:.20f}\".format(x))"
      ],
      "execution_count": null,
      "outputs": [
        {
          "output_type": "stream",
          "name": "stdout",
          "text": [
            "<class 'float'>\n",
            "x=3.14159265358979311600\n"
          ]
        }
      ]
    },
    {
      "cell_type": "markdown",
      "metadata": {
        "id": "Q3vW1VABmWuY"
      },
      "source": [
        "Veamos  numéros de máquina positivos pequeños y algunas operaciones."
      ]
    },
    {
      "cell_type": "code",
      "metadata": {
        "id": "s0uMKsGbmcON",
        "colab": {
          "base_uri": "https://localhost:8080/"
        },
        "outputId": "3b98313b-c7a7-43c1-fd2f-d4eaef07e73f"
      },
      "source": [
        "x=3E-324\n",
        "y=2E-324\n",
        "print('x=',x,'es un numero de maquina. Pero y=2E-324 es aproximado  a  y=',y)\n",
        "print('Al dividir x=3E-324 por dos tenemos x/2=',x/2)\n",
        "print('Note tambien que 1/x=',1/x)"
      ],
      "execution_count": null,
      "outputs": [
        {
          "output_type": "stream",
          "name": "stdout",
          "text": [
            "x= 5e-324 es un numero de maquina. Pero y=2E-324 es aproximado  a  y= 0.0\n",
            "Al dividir x=3E-324 por dos tenemos x/2= 0.0\n",
            "Note tambien que 1/x= inf\n"
          ]
        }
      ]
    },
    {
      "cell_type": "markdown",
      "metadata": {
        "id": "vPyZZSGum7AE"
      },
      "source": [
        "Ahora numéros positivos grandes."
      ]
    },
    {
      "cell_type": "code",
      "metadata": {
        "id": "lyQ9cPFrn51N",
        "colab": {
          "base_uri": "https://localhost:8080/"
        },
        "outputId": "258e9c67-798e-4ba2-ae43-6a7c9c9b1eac"
      },
      "source": [
        "x=1E+308\n",
        "y=2E+309\n",
        "print('x=',x,'es un numéro de maquina pero  y=2E+309 es transformado en  y=',y)\n",
        "print('Note que 1/x=',1/x, ' y también  1/y=',1/y)"
      ],
      "execution_count": null,
      "outputs": [
        {
          "output_type": "stream",
          "name": "stdout",
          "text": [
            "x= 1e+308 es un numéro de maquina pero  y=2E+309 es transformado en  y= inf\n",
            "Note que 1/x= 1e-308  y también  1/y= 0.0\n"
          ]
        }
      ]
    },
    {
      "cell_type": "markdown",
      "metadata": {
        "id": "gKtEqpup4MoD"
      },
      "source": [
        "Verificamos ahora la no-asociatividad de la suma en el siguiente ejemplo.\n",
        "\n",
        "\n",
        "\n"
      ]
    },
    {
      "cell_type": "code",
      "metadata": {
        "id": "HxCiavS57a6t",
        "colab": {
          "base_uri": "https://localhost:8080/"
        },
        "outputId": "f5878dec-39fc-46bf-89a4-114a45cf5cc2"
      },
      "source": [
        "x=1E+26-1E+26+1\n",
        "y=1E+26+1-1E+26\n",
        "print('x= ',x, ' diferente de   y=',y)"
      ],
      "execution_count": null,
      "outputs": [
        {
          "output_type": "stream",
          "name": "stdout",
          "text": [
            "x=  1.0  diferente de   y= 0.0\n"
          ]
        }
      ]
    },
    {
      "cell_type": "markdown",
      "metadata": {
        "id": "n7Cj2lC5_W02"
      },
      "source": [
        "Considere tambien el siguiente ejemplo."
      ]
    },
    {
      "cell_type": "code",
      "metadata": {
        "id": "ZUlXDiqaqvDY",
        "colab": {
          "base_uri": "https://localhost:8080/",
          "height": 222
        },
        "outputId": "3d4fe1ad-0780-47b1-bdbe-f708070cf4d4"
      },
      "source": [
        "a=1E+308\n",
        "b=1.1E+308\n",
        "c=-1.001E+308\n",
        "x=a+(b+c)\n",
        "#y=(a+b)+c\n",
        "#y=a**2\n",
        "print('x=',x,' que es diferente a  y=',y)"
      ],
      "execution_count": null,
      "outputs": [
        {
          "output_type": "error",
          "ename": "OverflowError",
          "evalue": "ignored",
          "traceback": [
            "\u001b[0;31m---------------------------------------------------------------------------\u001b[0m",
            "\u001b[0;31mOverflowError\u001b[0m                             Traceback (most recent call last)",
            "\u001b[0;32m<ipython-input-20-1b82fe1cd649>\u001b[0m in \u001b[0;36m<module>\u001b[0;34m()\u001b[0m\n\u001b[1;32m      4\u001b[0m \u001b[0mx\u001b[0m\u001b[0;34m=\u001b[0m\u001b[0ma\u001b[0m\u001b[0;34m+\u001b[0m\u001b[0;34m(\u001b[0m\u001b[0mb\u001b[0m\u001b[0;34m+\u001b[0m\u001b[0mc\u001b[0m\u001b[0;34m)\u001b[0m\u001b[0;34m\u001b[0m\u001b[0;34m\u001b[0m\u001b[0m\n\u001b[1;32m      5\u001b[0m \u001b[0;31m#y=(a+b)+c\u001b[0m\u001b[0;34m\u001b[0m\u001b[0;34m\u001b[0m\u001b[0;34m\u001b[0m\u001b[0m\n\u001b[0;32m----> 6\u001b[0;31m \u001b[0my\u001b[0m\u001b[0;34m=\u001b[0m\u001b[0ma\u001b[0m\u001b[0;34m**\u001b[0m\u001b[0;36m2\u001b[0m\u001b[0;34m\u001b[0m\u001b[0;34m\u001b[0m\u001b[0m\n\u001b[0m\u001b[1;32m      7\u001b[0m \u001b[0mprint\u001b[0m\u001b[0;34m(\u001b[0m\u001b[0;34m'x='\u001b[0m\u001b[0;34m,\u001b[0m\u001b[0mx\u001b[0m\u001b[0;34m,\u001b[0m\u001b[0;34m' que es diferente a  y='\u001b[0m\u001b[0;34m,\u001b[0m\u001b[0my\u001b[0m\u001b[0;34m)\u001b[0m\u001b[0;34m\u001b[0m\u001b[0;34m\u001b[0m\u001b[0m\n",
            "\u001b[0;31mOverflowError\u001b[0m: (34, 'Numerical result out of range')"
          ]
        }
      ]
    },
    {
      "cell_type": "markdown",
      "metadata": {
        "id": "2fyMw-asH3UQ"
      },
      "source": [
        "Otro ejemplo es el de calcular $\\sqrt{a^2+b^2}$ con $a=$1E+200 y $b=1$."
      ]
    },
    {
      "cell_type": "code",
      "metadata": {
        "id": "tbjR4hwGIEPp",
        "colab": {
          "base_uri": "https://localhost:8080/",
          "height": 222
        },
        "outputId": "612ab7b3-5ee9-4d70-b511-007acaf0ecd8"
      },
      "source": [
        "a=1E+200\n",
        "b=1\n",
        "y=np.sqrt( a**2+b**2)\n",
        "print(y)\n"
      ],
      "execution_count": null,
      "outputs": [
        {
          "output_type": "error",
          "ename": "OverflowError",
          "evalue": "ignored",
          "traceback": [
            "\u001b[0;31m---------------------------------------------------------------------------\u001b[0m",
            "\u001b[0;31mOverflowError\u001b[0m                             Traceback (most recent call last)",
            "\u001b[0;32m<ipython-input-17-a5daf2894962>\u001b[0m in \u001b[0;36m<module>\u001b[0;34m()\u001b[0m\n\u001b[1;32m      1\u001b[0m \u001b[0ma\u001b[0m\u001b[0;34m=\u001b[0m\u001b[0;36m1E+200\u001b[0m\u001b[0;34m\u001b[0m\u001b[0;34m\u001b[0m\u001b[0m\n\u001b[1;32m      2\u001b[0m \u001b[0mb\u001b[0m\u001b[0;34m=\u001b[0m\u001b[0;36m1\u001b[0m\u001b[0;34m\u001b[0m\u001b[0;34m\u001b[0m\u001b[0m\n\u001b[0;32m----> 3\u001b[0;31m \u001b[0my\u001b[0m\u001b[0;34m=\u001b[0m\u001b[0mnp\u001b[0m\u001b[0;34m.\u001b[0m\u001b[0msqrt\u001b[0m\u001b[0;34m(\u001b[0m \u001b[0ma\u001b[0m\u001b[0;34m**\u001b[0m\u001b[0;36m2\u001b[0m\u001b[0;34m+\u001b[0m\u001b[0mb\u001b[0m\u001b[0;34m**\u001b[0m\u001b[0;36m2\u001b[0m\u001b[0;34m)\u001b[0m\u001b[0;34m\u001b[0m\u001b[0;34m\u001b[0m\u001b[0m\n\u001b[0m\u001b[1;32m      4\u001b[0m \u001b[0mprint\u001b[0m\u001b[0;34m(\u001b[0m\u001b[0my\u001b[0m\u001b[0;34m)\u001b[0m\u001b[0;34m\u001b[0m\u001b[0;34m\u001b[0m\u001b[0m\n",
            "\u001b[0;31mOverflowError\u001b[0m: (34, 'Numerical result out of range')"
          ]
        }
      ]
    },
    {
      "cell_type": "markdown",
      "source": [
        "Podemos evitar el desbordamiento por exceso.\n"
      ],
      "metadata": {
        "id": "Oz7KzHaNH3Ip"
      }
    },
    {
      "cell_type": "code",
      "source": [
        "z=a*np.sqrt( 1+(b/a)**2)\n",
        "print(z)"
      ],
      "metadata": {
        "id": "tuBO5n9RHxWi",
        "colab": {
          "base_uri": "https://localhost:8080/"
        },
        "outputId": "10e1f186-b82d-4f06-ba38-17d2293727fb"
      },
      "execution_count": null,
      "outputs": [
        {
          "output_type": "stream",
          "name": "stdout",
          "text": [
            "1e+200\n"
          ]
        }
      ]
    },
    {
      "cell_type": "markdown",
      "metadata": {
        "id": "KCTsSun_wPok"
      },
      "source": [
        "Algunas expresiones ideterminadas con las que se debe tener cuidado a la hora de calcular con punto flotante.\n"
      ]
    },
    {
      "cell_type": "code",
      "metadata": {
        "id": "1YOAizPewUtP",
        "colab": {
          "base_uri": "https://localhost:8080/"
        },
        "outputId": "c86bd4f0-ef4b-41fc-f571-d0c9f4d25116"
      },
      "source": [
        "x=1\n",
        "y=0\n",
        "z=1E+320\n",
        "w=1E+330\n",
        "print('x= ',x,', y=',y,', z=',z,', w=',w)\n",
        "print('Inf/Inf=',w/z)\n",
        "print('Inf*Inf=',w*z)\n",
        "print('1/nan=', 1/(w/z))\n",
        "print('nan*1=',(w/z)*1)\n",
        "print('sqrt(nan)=',np.sqrt((w/z)))"
      ],
      "execution_count": null,
      "outputs": [
        {
          "output_type": "stream",
          "name": "stdout",
          "text": [
            "x=  1 , y= 0 , z= inf , w= inf\n",
            "Inf/Inf= nan\n",
            "Inf*Inf= inf\n",
            "1/nan= nan\n",
            "nan*1= nan\n",
            "sqrt(nan)= nan\n"
          ]
        }
      ]
    },
    {
      "cell_type": "markdown",
      "metadata": {
        "id": "5l6lIun-NRTd"
      },
      "source": [
        "El siguiente código muestra un código simple para aproximar el **epsilon de la máquina**  para precisión simple en esta maquina. "
      ]
    },
    {
      "cell_type": "code",
      "metadata": {
        "id": "F6lrwVA14Adl",
        "colab": {
          "base_uri": "https://localhost:8080/"
        },
        "outputId": "5aff8b7d-08e8-4a43-8d69-fcdafd0c3929"
      },
      "source": [
        "diferencia=0\n",
        "t=1\n",
        "i=0\n",
        "while(diferencia!=1):\n",
        "  i=i+1\n",
        "  t=np.float32(t/2)\n",
        "  uno=np.float32(1)\n",
        "  diferencia=np.float32(uno-t)\n",
        "  print('La resta de 1-t (',i,') es {:.15f} '.format(diferencia))\n",
        "print('Epsilon de máquina es aproximadamente ',2*t)\n",
        "print('La precisión en bits es ',-np.log2(2*t),'bits.')\n",
        "print('La precisión en decimales es ',-np.log10(2*t),'.')"
      ],
      "execution_count": null,
      "outputs": [
        {
          "output_type": "stream",
          "name": "stdout",
          "text": [
            "La resta de 1-t ( 1 ) es 0.500000000000000 \n",
            "La resta de 1-t ( 2 ) es 0.750000000000000 \n",
            "La resta de 1-t ( 3 ) es 0.875000000000000 \n",
            "La resta de 1-t ( 4 ) es 0.937500000000000 \n",
            "La resta de 1-t ( 5 ) es 0.968750000000000 \n",
            "La resta de 1-t ( 6 ) es 0.984375000000000 \n",
            "La resta de 1-t ( 7 ) es 0.992187500000000 \n",
            "La resta de 1-t ( 8 ) es 0.996093750000000 \n",
            "La resta de 1-t ( 9 ) es 0.998046875000000 \n",
            "La resta de 1-t ( 10 ) es 0.999023437500000 \n",
            "La resta de 1-t ( 11 ) es 0.999511718750000 \n",
            "La resta de 1-t ( 12 ) es 0.999755859375000 \n",
            "La resta de 1-t ( 13 ) es 0.999877929687500 \n",
            "La resta de 1-t ( 14 ) es 0.999938964843750 \n",
            "La resta de 1-t ( 15 ) es 0.999969482421875 \n",
            "La resta de 1-t ( 16 ) es 0.999984741210938 \n",
            "La resta de 1-t ( 17 ) es 0.999992370605469 \n",
            "La resta de 1-t ( 18 ) es 0.999996185302734 \n",
            "La resta de 1-t ( 19 ) es 0.999998092651367 \n",
            "La resta de 1-t ( 20 ) es 0.999999046325684 \n",
            "La resta de 1-t ( 21 ) es 0.999999523162842 \n",
            "La resta de 1-t ( 22 ) es 0.999999761581421 \n",
            "La resta de 1-t ( 23 ) es 0.999999880790710 \n",
            "La resta de 1-t ( 24 ) es 0.999999940395355 \n",
            "La resta de 1-t ( 25 ) es 1.000000000000000 \n",
            "Epsilon de máquina es aproximadamente  5.960464477539063e-08\n",
            "La precisión en bits es  24.0 bits.\n",
            "La precisión en decimales es  7.224719895935548 .\n"
          ]
        }
      ]
    },
    {
      "cell_type": "markdown",
      "metadata": {
        "id": "zrkQQ4B_lyUI"
      },
      "source": [
        "Vemos que para esta maquina el epsilon de la maquina es $\\approx 1e-8$ (en base 10). Esto se puede interpretar como siguie: en esta máquina (en precisión float32) tenemos unos 6 o 7 decimales correctos al redondear. Si bien es cierto que esto genera un error relativo pequeño, en codigos complicados con muchos calculos intermedios podemos acumular errores y terminar con menos decimales significativos."
      ]
    },
    {
      "cell_type": "code",
      "metadata": {
        "id": "A6RhZQO1QGl8",
        "colab": {
          "base_uri": "https://localhost:8080/"
        },
        "outputId": "06423376-e258-4844-811d-86ced81b4bea"
      },
      "source": [
        "diferencia=0\n",
        "t=1\n",
        "i=0\n",
        "while(diferencia!=1):\n",
        "  i=i+1\n",
        "  t=t/2\n",
        "  diferencia=(1-t)\n",
        "  print('La resta de 1-t (',i,') es {:.15f} '.format(diferencia))\n",
        "print('Epsilon de máquina es aproximadamente ',2*t)\n",
        "print('La precisión en bits es ',-np.log2(2*t),'bits.')\n",
        "print('La precisión en decimales es ',-np.log10(2*t),'.')"
      ],
      "execution_count": null,
      "outputs": [
        {
          "output_type": "stream",
          "name": "stdout",
          "text": [
            "La resta de 1-t ( 1 ) es 0.500000000000000 \n",
            "La resta de 1-t ( 2 ) es 0.750000000000000 \n",
            "La resta de 1-t ( 3 ) es 0.875000000000000 \n",
            "La resta de 1-t ( 4 ) es 0.937500000000000 \n",
            "La resta de 1-t ( 5 ) es 0.968750000000000 \n",
            "La resta de 1-t ( 6 ) es 0.984375000000000 \n",
            "La resta de 1-t ( 7 ) es 0.992187500000000 \n",
            "La resta de 1-t ( 8 ) es 0.996093750000000 \n",
            "La resta de 1-t ( 9 ) es 0.998046875000000 \n",
            "La resta de 1-t ( 10 ) es 0.999023437500000 \n",
            "La resta de 1-t ( 11 ) es 0.999511718750000 \n",
            "La resta de 1-t ( 12 ) es 0.999755859375000 \n",
            "La resta de 1-t ( 13 ) es 0.999877929687500 \n",
            "La resta de 1-t ( 14 ) es 0.999938964843750 \n",
            "La resta de 1-t ( 15 ) es 0.999969482421875 \n",
            "La resta de 1-t ( 16 ) es 0.999984741210938 \n",
            "La resta de 1-t ( 17 ) es 0.999992370605469 \n",
            "La resta de 1-t ( 18 ) es 0.999996185302734 \n",
            "La resta de 1-t ( 19 ) es 0.999998092651367 \n",
            "La resta de 1-t ( 20 ) es 0.999999046325684 \n",
            "La resta de 1-t ( 21 ) es 0.999999523162842 \n",
            "La resta de 1-t ( 22 ) es 0.999999761581421 \n",
            "La resta de 1-t ( 23 ) es 0.999999880790710 \n",
            "La resta de 1-t ( 24 ) es 0.999999940395355 \n",
            "La resta de 1-t ( 25 ) es 0.999999970197678 \n",
            "La resta de 1-t ( 26 ) es 0.999999985098839 \n",
            "La resta de 1-t ( 27 ) es 0.999999992549419 \n",
            "La resta de 1-t ( 28 ) es 0.999999996274710 \n",
            "La resta de 1-t ( 29 ) es 0.999999998137355 \n",
            "La resta de 1-t ( 30 ) es 0.999999999068677 \n",
            "La resta de 1-t ( 31 ) es 0.999999999534339 \n",
            "La resta de 1-t ( 32 ) es 0.999999999767169 \n",
            "La resta de 1-t ( 33 ) es 0.999999999883585 \n",
            "La resta de 1-t ( 34 ) es 0.999999999941792 \n",
            "La resta de 1-t ( 35 ) es 0.999999999970896 \n",
            "La resta de 1-t ( 36 ) es 0.999999999985448 \n",
            "La resta de 1-t ( 37 ) es 0.999999999992724 \n",
            "La resta de 1-t ( 38 ) es 0.999999999996362 \n",
            "La resta de 1-t ( 39 ) es 0.999999999998181 \n",
            "La resta de 1-t ( 40 ) es 0.999999999999091 \n",
            "La resta de 1-t ( 41 ) es 0.999999999999545 \n",
            "La resta de 1-t ( 42 ) es 0.999999999999773 \n",
            "La resta de 1-t ( 43 ) es 0.999999999999886 \n",
            "La resta de 1-t ( 44 ) es 0.999999999999943 \n",
            "La resta de 1-t ( 45 ) es 0.999999999999972 \n",
            "La resta de 1-t ( 46 ) es 0.999999999999986 \n",
            "La resta de 1-t ( 47 ) es 0.999999999999993 \n",
            "La resta de 1-t ( 48 ) es 0.999999999999996 \n",
            "La resta de 1-t ( 49 ) es 0.999999999999998 \n",
            "La resta de 1-t ( 50 ) es 0.999999999999999 \n",
            "La resta de 1-t ( 51 ) es 1.000000000000000 \n",
            "La resta de 1-t ( 52 ) es 1.000000000000000 \n",
            "La resta de 1-t ( 53 ) es 1.000000000000000 \n",
            "La resta de 1-t ( 54 ) es 1.000000000000000 \n",
            "Epsilon de máquina es aproximadamente  1.1102230246251565e-16\n",
            "La precisión en bits es  53.0 bits.\n",
            "La precisión en decimales es  15.954589770191003 .\n"
          ]
        }
      ]
    },
    {
      "cell_type": "markdown",
      "metadata": {
        "id": "cVugKFm3rM7o"
      },
      "source": [
        "Un ejemplo de perdida de dígitos (o cancelación) es el siguiente. "
      ]
    },
    {
      "cell_type": "code",
      "metadata": {
        "id": "ux4wn-zVrR0k",
        "colab": {
          "base_uri": "https://localhost:8080/"
        },
        "outputId": "f1ae852d-8b9a-4997-e97d-50397832c32b"
      },
      "source": [
        "x=1E-15\n",
        "y=((1+x)-1)/x\n",
        "print('y=',y)\n",
        "print('Con error relativo de ', 100*(y-1),'%.')"
      ],
      "execution_count": null,
      "outputs": [
        {
          "output_type": "stream",
          "name": "stdout",
          "text": [
            "y= 1.1102230246251565\n",
            "Con error relativo de  11.022302462515654 %.\n"
          ]
        }
      ]
    },
    {
      "cell_type": "markdown",
      "metadata": {
        "id": "MfL1yi32rlRU"
      },
      "source": [
        "Un otro ejemplo comun de cancelación es cuando se evaluan polinomios usando la expresión de potencias. Por ejemplo, evaluemos \n",
        "$$P(x)=(x-1)^7=x^7-7x^6+21x^5-35x^4+35x^3-21x^2+7x-1$$\n",
        "usando ests dos expresiones. "
      ]
    },
    {
      "cell_type": "code",
      "metadata": {
        "id": "46a0bz2_rj2z",
        "colab": {
          "base_uri": "https://localhost:8080/",
          "height": 239
        },
        "outputId": "4edf9a81-cbe6-427d-b938-8e7bca310bfd"
      },
      "source": [
        "# puntos igualmente espaciados\n",
        "a=1-4E-3\n",
        "b=1+4E-3\n",
        "print(a)\n",
        "x = np.arange(a, b, 4E-3/200)\n",
        "p1= (x-1)**7\n",
        "p2=x**7-7*x**6+21*x**5-35*x**4+35*x**3-21*x**2+7*x-1\n",
        "plt.figure(figsize=(20, 5))\n",
        "plt.plot(x, p1, 'r-',label='P_1')\n",
        "plt.plot( x, p2, 'b-',label='P_2')\n",
        "legend = plt.legend(loc='upper left', shadow=True, fontsize='x-large')\n",
        "plt.show()"
      ],
      "execution_count": null,
      "outputs": [
        {
          "output_type": "stream",
          "name": "stdout",
          "text": [
            "0.996\n"
          ]
        },
        {
          "output_type": "display_data",
          "data": {
            "text/plain": [
              "<Figure size 1440x360 with 1 Axes>"
            ],
            "image/png": "[encoded data removed]"
          },
          "metadata": {
            "needs_background": "light"
          }
        }
      ]
    },
    {
      "cell_type": "markdown",
      "metadata": {
        "id": "lDTxb5fNx2Oq"
      },
      "source": [
        "Por último notamos que, aunque el error de redondeo es pequeño al principio, en cálculos complejos puede acumular para ocasionar efectos **catastróficos**.\n",
        "\n",
        "\n",
        "**EJEMPLO 1:**  Explosión del misil Ariane en Junio de 1996 por un **desbordamiento por exceso** en el computador del mismo.\n",
        "https://www.bugsnag.com/blog/bug-day-ariane-5-disaster\n",
        "\n",
        "**EJEMPLO 2:** La falla de una misión de un misil *American Patriot* durante la guerra del Golfo en 1991 debido a **errores de redondeo** en el cálculo de la trayectoria a seguir. \n",
        "https://www.iro.umontreal.ca/~mignotte/IFT2425/Disasters.html"
      ]
    },
    {
      "cell_type": "markdown",
      "metadata": {
        "id": "9ne-EjelDTCn"
      },
      "source": [
        "A continuación calculamos la recursión $x_0=1, x_1=1/3, x_{n+1}=\\frac{13}{3}x_n-\\frac{4}{3}x_{n-1}$ de dos formas diferentes. Una usando directamente la definición de la recursión. La otra a partir de la formula análitica de la misma, que es $x_n=\\frac{1}{3^n}$."
      ]
    },
    {
      "cell_type": "code",
      "metadata": {
        "id": "-8qrnFIRDUzp",
        "colab": {
          "base_uri": "https://localhost:8080/"
        },
        "outputId": "38e444d3-b997-4eac-b08f-87605ce87776"
      },
      "source": [
        "x0=1\n",
        "x1=1/3\n",
        "for n in range(2,34):\n",
        "  x2=(13/3)*x1-(4/3)*x0\n",
        "  exac=np.power(1/3,n)\n",
        "  print('Calculado={0:.15f}'.format(x2), '\\t \\t Exacto',exac)\n",
        "  x0=x1\n",
        "  x1=x2"
      ],
      "execution_count": null,
      "outputs": [
        {
          "output_type": "stream",
          "name": "stdout",
          "text": [
            "Calculado=0.111111111111111 \t \t Exacto 0.1111111111111111\n",
            "Calculado=0.037037037037036 \t \t Exacto 0.03703703703703703\n",
            "Calculado=0.012345679012343 \t \t Exacto 0.012345679012345677\n",
            "Calculado=0.004115226337436 \t \t Exacto 0.004115226337448558\n",
            "Calculado=0.001371742112432 \t \t Exacto 0.0013717421124828527\n",
            "Calculado=0.000457247370625 \t \t Exacto 0.00045724737082761756\n",
            "Calculado=0.000152415789465 \t \t Exacto 0.0001524157902758725\n",
            "Calculado=0.000050805260180 \t \t Exacto 5.0805263425290837e-05\n",
            "Calculado=0.000016935074827 \t \t Exacto 1.693508780843028e-05\n",
            "Calculado=0.000005644977344 \t \t Exacto 5.645029269476759e-06\n",
            "Calculado=0.000001881468722 \t \t Exacto 1.8816764231589195e-06\n",
            "Calculado=0.000000626394672 \t \t Exacto 6.272254743863065e-07\n",
            "Calculado=0.000000205751947 \t \t Exacto 2.090751581287688e-07\n",
            "Calculado=0.000000056398875 \t \t Exacto 6.969171937625627e-08\n",
            "Calculado=-0.000000029940803 \t \t Exacto 2.3230573125418753e-08\n",
            "Calculado=-0.000000204941979 \t \t Exacto 7.743524375139585e-09\n",
            "Calculado=-0.000000848160840 \t \t Exacto 2.5811747917131946e-09\n",
            "Calculado=-0.000003402107668 \t \t Exacto 8.603915972377315e-10\n",
            "Calculado=-0.000013611585443 \t \t Exacto 2.867971990792438e-10\n",
            "Calculado=-0.000054447393362 \t \t Exacto 9.559906635974793e-11\n",
            "Calculado=-0.000217789923978 \t \t Exacto 3.186635545324931e-11\n",
            "Calculado=-0.000871159812755 \t \t Exacto 1.0622118484416435e-11\n",
            "Calculado=-0.003484639289968 \t \t Exacto 3.540706161472145e-12\n",
            "Calculado=-0.013938557172856 \t \t Exacto 1.1802353871573816e-12\n",
            "Calculado=-0.055754228695752 \t \t Exacto 3.934117957191272e-13\n",
            "Calculado=-0.223016914784449 \t \t Exacto 1.3113726523970905e-13\n",
            "Calculado=-0.892067659138275 \t \t Exacto 4.3712421746569684e-14\n",
            "Calculado=-3.568270636553262 \t \t Exacto 1.457080724885656e-14\n",
            "Calculado=-14.273082546213100 \t \t Exacto 4.856935749618853e-15\n",
            "Calculado=-57.092330184852415 \t \t Exacto 1.6189785832062843e-15\n",
            "Calculado=-228.369320739409631 \t \t Exacto 5.396595277354281e-16\n",
            "Calculado=-913.477282957638408 \t \t Exacto 1.7988650924514269e-16\n"
          ]
        }
      ]
    },
    {
      "cell_type": "markdown",
      "metadata": {
        "id": "k02akMTkDdzp"
      },
      "source": [
        "Observe que la columna de la izquierda, tiene hasta valore negativos y parece diverge a $-\\infty$. Este es otro ejemplo de algoritmo inestable. "
      ]
    },
    {
      "cell_type": "markdown",
      "source": [
        "Para terminar mencionaremos la librería sympy que permite realizar cálculo simbólico en lugar de cálculo numérico. Recuerden que en el cálculo numérico las variables en todo momento tiene valores particulares asignados los cuales corresponden a números de máquina que dependen del formato que se esté usando: precisión simple, precisión doble, e.t.c. \n",
        "\n",
        "Para terminar mencionaremos la librería sympy que permite realizar cálculo simbólico en lugar de cálculo numérico. Recuerden que en el cálculo numérico las variables en todo momento tiene valores particulares asignados los cuales corresponden a números de máquina que dependen del formato que se esté usando: precisión simple, precisión doble, e.t.c.\n",
        "En los cálculos simbólicos las variables no tienen que tomar valores particulares y se pueden manipular solo restringiendo su comportamiento a reglas que aplican a conjuntos numéricos como por ejemplo: enteros, reales, complejos, matrices, e.t.c.\n"
      ],
      "metadata": {
        "id": "lUY_w3xCIdjg"
      }
    },
    {
      "cell_type": "code",
      "metadata": {
        "colab": {
          "base_uri": "https://localhost:8080/",
          "height": 37
        },
        "id": "aOJwyyDNhZWc",
        "outputId": "d4349f5e-6bea-46cf-d971-f3562c68e9cd"
      },
      "source": [
        "import sympy as sp\n",
        "x = sp.Symbol('x')\n",
        "y = sp.Symbol('y')\n",
        "sp.limit(sp.sin(x)/x, x, 0)"
      ],
      "execution_count": null,
      "outputs": [
        {
          "output_type": "execute_result",
          "data": {
            "text/plain": [
              "1"
            ],
            "text/latex": "$\\displaystyle 1$"
          },
          "metadata": {},
          "execution_count": 5
        }
      ]
    },
    {
      "cell_type": "code",
      "metadata": {
        "colab": {
          "base_uri": "https://localhost:8080/",
          "height": 38
        },
        "id": "y9tbwF7jiDXP",
        "outputId": "3d66f9fe-53a0-49a7-f6f6-c6b80acfcc50"
      },
      "source": [
        "sp.expand(sp.cos(x+y), trig=True)"
      ],
      "execution_count": null,
      "outputs": [
        {
          "output_type": "execute_result",
          "data": {
            "text/plain": [
              "-sin(x)*sin(y) + cos(x)*cos(y)"
            ],
            "text/latex": "$\\displaystyle - \\sin{\\left(x \\right)} \\sin{\\left(y \\right)} + \\cos{\\left(x \\right)} \\cos{\\left(y \\right)}$"
          },
          "metadata": {},
          "execution_count": 6
        }
      ]
    },
    {
      "cell_type": "code",
      "metadata": {
        "colab": {
          "base_uri": "https://localhost:8080/",
          "height": 59
        },
        "id": "yKgvLt7OiPJ6",
        "outputId": "df873a6a-ed15-4dcd-f787-96e6a450ac2f"
      },
      "source": [
        " sp.diff(sp.sin(x)/sp.cos(x), x)"
      ],
      "execution_count": null,
      "outputs": [
        {
          "output_type": "execute_result",
          "data": {
            "text/plain": [
              "sin(x)**2/cos(x)**2 + 1"
            ],
            "text/latex": "$\\displaystyle \\frac{\\sin^{2}{\\left(x \\right)}}{\\cos^{2}{\\left(x \\right)}} + 1$"
          },
          "metadata": {},
          "execution_count": 8
        }
      ]
    },
    {
      "cell_type": "code",
      "metadata": {
        "colab": {
          "base_uri": "https://localhost:8080/"
        },
        "id": "lmeuBFaDibYP",
        "outputId": "5067c75b-bf0a-4b74-ddaf-fa2d705edb1b"
      },
      "source": [
        "sp.solve(x**4 - y, x)"
      ],
      "execution_count": null,
      "outputs": [
        {
          "output_type": "execute_result",
          "data": {
            "text/plain": [
              "[-y**(1/4), y**(1/4), -I*y**(1/4), I*y**(1/4)]"
            ]
          },
          "metadata": {},
          "execution_count": 9
        }
      ]
    },
    {
      "cell_type": "code",
      "metadata": {
        "id": "E3GnbwR7io_0"
      },
      "source": [
        "A = sp.Matrix([[1,x,x**2], [1,1,x], [x**2,x**2,x]])"
      ],
      "execution_count": null,
      "outputs": []
    },
    {
      "cell_type": "code",
      "source": [
        "z=sp.det(A)\n",
        "z"
      ],
      "metadata": {
        "colab": {
          "base_uri": "https://localhost:8080/",
          "height": 38
        },
        "id": "8BuNLI3cOXQT",
        "outputId": "a09af3f1-d301-4873-bcf6-aab679b27eee"
      },
      "execution_count": null,
      "outputs": [
        {
          "output_type": "execute_result",
          "data": {
            "text/plain": [
              "x**4 - x**3 - x**2 + x"
            ],
            "text/latex": "$\\displaystyle x^{4} - x^{3} - x^{2} + x$"
          },
          "metadata": {},
          "execution_count": 11
        }
      ]
    },
    {
      "cell_type": "code",
      "source": [
        "p=sp.solve(z,x)\n",
        "p"
      ],
      "metadata": {
        "colab": {
          "base_uri": "https://localhost:8080/"
        },
        "id": "2I32NrbeOgpu",
        "outputId": "925d1d56-14b2-4c5f-b13d-d011c1cfe3e0"
      },
      "execution_count": null,
      "outputs": [
        {
          "output_type": "execute_result",
          "data": {
            "text/plain": [
              "[-1, 0, 1]"
            ]
          },
          "metadata": {},
          "execution_count": 67
        }
      ]
    },
    {
      "cell_type": "markdown",
      "source": [
        "**NOTA:** \n",
        "Tenga en cuenta que el formato entero (int ) de python no tiene una longitud fija y puede representar enteros grandes. Por ejemplo:\n",
        " \n"
      ],
      "metadata": {
        "id": "tiHka1wZ11R3"
      }
    },
    {
      "cell_type": "code",
      "source": [
        "23**100+21"
      ],
      "metadata": {
        "colab": {
          "base_uri": "https://localhost:8080/"
        },
        "id": "p7hg0U5lS9Kz",
        "outputId": "31771ddd-dc39-4102-a15f-60dc0046b870"
      },
      "execution_count": null,
      "outputs": [
        {
          "output_type": "execute_result",
          "data": {
            "text/plain": [
              "14886191506363039393791556586559754231987119653801368686576988209222433278539331352152390143277346804233476592179447310859520222529876022"
            ]
          },
          "metadata": {},
          "execution_count": 1
        }
      ]
    },
    {
      "cell_type": "markdown",
      "metadata": {
        "id": "nWxxD_YZ1Ni-"
      },
      "source": [
        "# Problemas"
      ]
    },
    {
      "cell_type": "markdown",
      "metadata": {
        "id": "GHEQSZR51SrE"
      },
      "source": [
        "**PROBLEMA** ¿Cuánta memoria requiere guardar 100.000 números de punto flotante de precisión doble?¿Cuánta memoria requiere guardar una matriz de números de punto flotante dimensión 100.000 x 100.000?\n",
        "\n",
        "**PROBLEMA** Los números de punto flotante en python son implementados usando la clase float. Es decir, además de la descripción en bits del número tenemos asociados a la una instancia de variable tipo float los los siguientes métodos y atributos para un dato float: as_integer_ratio, conjugate, fromhex, imag, is_integer, real .\n",
        "\n",
        "Describa cada uno de estos métodos y atributos con ejemplos simples. \n",
        "\n",
        "La implementación del tipo de dato float en lenguaje C corresponde solo a la descripción en bits del número y no corresponde a una estructura u objeto. ¿Cuáles son las ventajas y desventajas de usar objetos?. \n",
        "\n",
        "\n",
        "**PROBLEMA(Sullivan)** Con $x_0=1/10$, considere la sucesión,  \n",
        "$$\n",
        "x_{n+1}=\\left\\{\\begin{array}{ll}\n",
        "2x_n & \\mbox{ si } x_n\\in \\left[0,\\frac{1}{2}\\right] \\\\\n",
        "2x_n-1 &  \\mbox{ si } x_n\\in \\left(\\frac{1}{2},1\\right].\n",
        "\\end{array}\\right.\n",
        "$$\n",
        "para $n=1,2,\\dots$. Calcule $x_1,x_2,x_3,\\dots,x_{50}$ de forma análitica y despues usandoun código en python. Compare y explique.\n",
        "\n",
        "Repetir pero ahora iniciando con $x_0=1/8$. Compare y explique. \n",
        "\n",
        "**PROBLEMA** Explique la falla del Ariane. Muestre cálculos numéricos para soportar su explicación. \n",
        "\n",
        "**PROBLEMA**  Explicar la falla del American Patriot. Muestre cálculos numéricos para soportar su explicación.\n",
        "\n",
        "**PROBLEMA** Ensaye calcular las funciones $$f(x)=\\sqrt{x^2+1}-1 \\quad g(x)=\\frac{x^2}{\\sqrt{x^2+1}+1}$$\n",
        "Use valores pequeños como $x=8^{-1},8^{-2},8^{-3},\\dots$. Explique los resultados. Note que, análiticamete,  $f(x)=g(x)$.\n"
      ]
    },
    {
      "cell_type": "markdown",
      "metadata": {
        "id": "poKJfAr62xKi"
      },
      "source": [
        "**PROBLEMA(Quarteroni,Saleri,Gervasio)** El lector puede implementar el calculo de la siguiente recurrencia que approxima $\\pi$ (formula de Franc,ois Viète) y estudiar su estabilidad/instabilidad numérica, \n",
        "$$z_1=2, \\,\\,z_{n+1}=2^{n-1/2}\\sqrt{1-\\sqrt{1-4^{1-n}z_n^2}},\\,\\,n=2,3,\\dots. $$\n",
        "\n",
        "\n",
        "\n",
        "**PROBLEMA(Stewart)** Repita el experimento arriba con la recurrencia $x_1=\\frac{1}{3}, x_2=\\frac{1}{12}$,  $x_{k+1}=2.25x_k-0.5x_{k-1}$.\n",
        "\n",
        "**PROBLEMA** Presente un ejemplo, adicional  a los presentados en clase, de algortimos inestables o problemas mal condicionados. \n",
        "\n",
        "**PROBLEMA** Repita el experimento arriba con $P(x)=(x-1)^7$. Agrege el siguiente método \n",
        "$$  P(x)= ((((((x-7)x+21)x-35)x+35)x-21)x+7)x-1 $$\n",
        "Verifique esta formula. Implemente y comente los resultados. Esta forma de calcular polinimios es conocida como el esquema de Horner.\n"
      ]
    },
    {
      "cell_type": "markdown",
      "metadata": {
        "id": "OY2xTl3zL0Fy"
      },
      "source": [
        "**PROBLEMA(Stoer)** Considere los siguientes algoritmos. Algoritmo 1\n",
        "$$s=p^2,\\quad t=s+q,\\quad u=\\sqrt{t},\\quad y=-p+u  $$\n",
        "y el altoritmo 2, \n",
        "$$s=p^2,\\quad t=s+q,\\quad u=\\sqrt{t}, \\quad v=p+u,\\quad y=q/v $$\n",
        "Escriba $y$ como función de $p$ y $q$. Compare los resutados de estos dos algoritmos cuando $p=1000$,  $q=0.0018000000081$. Explique los resultados. ¿Cuál es mas confiable para estos valores de $p$ y $q$?"
      ]
    },
    {
      "cell_type": "markdown",
      "metadata": {
        "id": "CiLS02H-QYNd"
      },
      "source": [
        "**PROBLEMA** Considere el siguiente codigo\n",
        "```\n",
        "x=np.sqrt(1/9)\n",
        "print(\"x={0:.60f}\".format(x))\n",
        "```\n",
        "que dá como resultado \n",
        "x=0.333333333333333314829616256247390992939472198486328125000000.\n",
        "\n",
        "Explique, tan detalladamente como le sea posible, lo que  está pasando. \n",
        "Compare con el siguiente código para el cual es más dificil saber la respuesta exacta. \n",
        "```\n",
        "x=np.sqrt(0.1)\n",
        "print(\"x={0:.60f}\".format(x))\n",
        "```\n",
        "¿Cuántos decimales puede garantizar este cálculo?"
      ]
    },
    {
      "cell_type": "markdown",
      "source": [
        "**PROBLEMA** Describa los siguientes tipos de datos :numpy.half,   numpy.float16, numpy.single, numpy.double, numpy.longdouble, numpy.csingle, numpy.cdouble, numpy.clongdouble."
      ],
      "metadata": {
        "id": "nTJp3M3KDtgg"
      }
    },
    {
      "cell_type": "markdown",
      "source": [
        "# Referencias\n",
        "\n",
        "\n",
        "\n",
        "\n",
        "*   Sullivan, Eric. Numerical Methods: An Inquiry-Based Approach With Python. 2020.\n",
        "*   Bulirsch, Roland, Josef Stoer, and J. Stoer. Introduction to numerical analysis. Vol. 3. Heidelberg: Springer, 2002.\n",
        "*  Stewart, Gilbert W. Afternotes on numerical analysis. Society for Industrial and Applied Mathematics, 1996.\n",
        "*  Quarteroni, Alfio, Fausto Saleri, and Paola Gervasio. Scientific computing with MATLAB and Octave. Vol. 3. Berlin: Springer, 2006.\n",
        "\n",
        "\n"
      ],
      "metadata": {
        "id": "I28slkSm9nBN"
      }
    }
  ]
}
